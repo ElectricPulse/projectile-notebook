{
  "cells": [
    {
      "cell_type": "code",
      "source": [
        "![ ! -d projectile-notebook ] && git clone https://github.com/ElectricPulse/projectile-notebook.git"
      ],
      "metadata": {
        "id": "3dN4wPyJwECE"
      },
      "id": "3dN4wPyJwECE",
      "execution_count": 5,
      "outputs": []
    },
    {
      "cell_type": "code",
      "execution_count": 10,
      "id": "99c434b9-1704-446e-8ae0-4d22a69eaba6",
      "metadata": {
        "colab": {
          "base_uri": "https://localhost:8080/"
        },
        "id": "99c434b9-1704-446e-8ae0-4d22a69eaba6",
        "outputId": "a9dffa9e-6eef-418f-c947-8b7f465f1ae6"
      },
      "outputs": [
        {
          "output_type": "execute_result",
          "data": {
            "text/plain": [
              "{'status': 'ok', 'restart': True}"
            ]
          },
          "metadata": {},
          "execution_count": 10
        }
      ],
      "source": [
        "!pip install -q ipympl matplotlib\n",
        "get_ipython().kernel.do_shutdown(restart=True)"
      ]
    },
    {
      "cell_type": "code",
      "source": [
        "from google.colab import output\n",
        "output.enable_custom_widget_manager()\n",
        "\n",
        "!cd /content/projectile-notebook\n",
        "%matplotlib ipympl\n",
        "from main import main\n",
        "main(False)"
      ],
      "metadata": {
        "colab": {
          "base_uri": "https://localhost:8080/",
          "height": 383
        },
        "id": "kDg5B0z7su3E",
        "outputId": "73fd73d1-78e1-4643-867e-bb71afb2e488"
      },
      "id": "kDg5B0z7su3E",
      "execution_count": 3,
      "outputs": [
        {
          "output_type": "error",
          "ename": "ModuleNotFoundError",
          "evalue": "No module named 'main'",
          "traceback": [
            "\u001b[0;31m---------------------------------------------------------------------------\u001b[0m",
            "\u001b[0;31mModuleNotFoundError\u001b[0m                       Traceback (most recent call last)",
            "\u001b[0;32m<ipython-input-3-e0d2414d865c>\u001b[0m in \u001b[0;36m<cell line: 0>\u001b[0;34m()\u001b[0m\n\u001b[1;32m      4\u001b[0m \u001b[0mget_ipython\u001b[0m\u001b[0;34m(\u001b[0m\u001b[0;34m)\u001b[0m\u001b[0;34m.\u001b[0m\u001b[0msystem\u001b[0m\u001b[0;34m(\u001b[0m\u001b[0;34m'cd /content/projectile-notebook'\u001b[0m\u001b[0;34m)\u001b[0m\u001b[0;34m\u001b[0m\u001b[0;34m\u001b[0m\u001b[0m\n\u001b[1;32m      5\u001b[0m \u001b[0mget_ipython\u001b[0m\u001b[0;34m(\u001b[0m\u001b[0;34m)\u001b[0m\u001b[0;34m.\u001b[0m\u001b[0mrun_line_magic\u001b[0m\u001b[0;34m(\u001b[0m\u001b[0;34m'matplotlib'\u001b[0m\u001b[0;34m,\u001b[0m \u001b[0;34m'ipympl'\u001b[0m\u001b[0;34m)\u001b[0m\u001b[0;34m\u001b[0m\u001b[0;34m\u001b[0m\u001b[0m\n\u001b[0;32m----> 6\u001b[0;31m \u001b[0;32mfrom\u001b[0m \u001b[0mmain\u001b[0m \u001b[0;32mimport\u001b[0m \u001b[0mmain\u001b[0m\u001b[0;34m\u001b[0m\u001b[0;34m\u001b[0m\u001b[0m\n\u001b[0m\u001b[1;32m      7\u001b[0m \u001b[0mmain\u001b[0m\u001b[0;34m(\u001b[0m\u001b[0;32mFalse\u001b[0m\u001b[0;34m)\u001b[0m\u001b[0;34m\u001b[0m\u001b[0;34m\u001b[0m\u001b[0m\n",
            "\u001b[0;31mModuleNotFoundError\u001b[0m: No module named 'main'",
            "",
            "\u001b[0;31m---------------------------------------------------------------------------\u001b[0;32m\nNOTE: If your import is failing due to a missing package, you can\nmanually install dependencies using either !pip or !apt.\n\nTo view examples of installing some common dependencies, click the\n\"Open Examples\" button below.\n\u001b[0;31m---------------------------------------------------------------------------\u001b[0m\n"
          ],
          "errorDetails": {
            "actions": [
              {
                "action": "open_url",
                "actionText": "Open Examples",
                "url": "/notebooks/snippets/importing_libraries.ipynb"
              }
            ]
          }
        }
      ]
    },
    {
      "cell_type": "markdown",
      "id": "6e5bebad-77d8-4de8-8ba4-d8927b5d9572",
      "metadata": {
        "id": "6e5bebad-77d8-4de8-8ba4-d8927b5d9572"
      },
      "source": [
        "Úloha 4 a 5:\n",
        "Keď Mesiac urobí jednu rotáciu okolo Zeme, stlač Toggle Playback\n",
        "Výsledky budú vytlačené v okienku\n",
        "\n",
        "Mne vyšlo niečo takéto:\n",
        "\n",
        "```Aktuálny čas: 27.7 dní```\n",
        "\n",
        "```Max odchylka 2.140089246822413%```\n",
        "\n",
        "```Min odchylka 0.6162024982880183%```"
      ]
    },
    {
      "cell_type": "markdown",
      "id": "6c56dbec-2835-4fcd-bc44-434a0817e9be",
      "metadata": {
        "id": "6c56dbec-2835-4fcd-bc44-434a0817e9be"
      },
      "source": [
        "Úloha 6:\n",
        "- Každá simulačná metóda (naša využívajúca Eulerovu integračnú schému) má svoju nepresnosť.\n",
        "- Odchýlka raz za hodinu je veľmi presná, raz za 12 hodín je menej presná.\n",
        "- Odchýlka od skutočnej dráhy sa s presnejšou metódou zmenšuje."
      ]
    },
    {
      "cell_type": "markdown",
      "id": "c1131f8e-8f2b-46d8-8ce2-8b99b8275977",
      "metadata": {
        "id": "c1131f8e-8f2b-46d8-8ce2-8b99b8275977"
      },
      "source": [
        "Úloha 7:\n",
        "- Hraj sa so sliderom \"Launch speed\" :).\n",
        "8. Gravitačné pole slabne s väčšou vzdialenosťou, takže je to to isté akokeby sme znížili rýchlosť Mesiaca alebo znížili hmotnosť Zeme\n",
        "9. Priťahovanie Zeme pomocou Mesiacu sme nezapočítali a dráhu by neovplyvnilo\n",
        "10. V simulácií stačí zmeniť v config.py parametre"
      ]
    },
    {
      "cell_type": "code",
      "execution_count": 2,
      "id": "11212323-4e41-4988-92db-39f60103159c",
      "metadata": {
        "colab": {
          "base_uri": "https://localhost:8080/",
          "height": 147
        },
        "id": "11212323-4e41-4988-92db-39f60103159c",
        "outputId": "e6f1deda-bf41-477e-903b-8cba61610ab0"
      },
      "outputs": [
        {
          "output_type": "error",
          "ename": "NameError",
          "evalue": "name 'main' is not defined",
          "traceback": [
            "\u001b[0;31m---------------------------------------------------------------------------\u001b[0m",
            "\u001b[0;31mNameError\u001b[0m                                 Traceback (most recent call last)",
            "\u001b[0;32m<ipython-input-2-3064478c9899>\u001b[0m in \u001b[0;36m<cell line: 0>\u001b[0;34m()\u001b[0m\n\u001b[0;32m----> 1\u001b[0;31m \u001b[0mmain\u001b[0m\u001b[0;34m(\u001b[0m\u001b[0;32mTrue\u001b[0m\u001b[0;34m)\u001b[0m\u001b[0;34m\u001b[0m\u001b[0;34m\u001b[0m\u001b[0m\n\u001b[0m",
            "\u001b[0;31mNameError\u001b[0m: name 'main' is not defined"
          ]
        }
      ],
      "source": [
        "main(True)"
      ]
    }
  ],
  "metadata": {
    "kernelspec": {
      "display_name": "Python 3 (ipykernel)",
      "language": "python",
      "name": "python3"
    },
    "language_info": {
      "codemirror_mode": {
        "name": "ipython",
        "version": 3
      },
      "file_extension": ".py",
      "mimetype": "text/x-python",
      "name": "python",
      "nbconvert_exporter": "python",
      "pygments_lexer": "ipython3",
      "version": "3.13.2"
    },
    "colab": {
      "provenance": []
    }
  },
  "nbformat": 4,
  "nbformat_minor": 5
}